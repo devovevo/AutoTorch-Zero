{
 "cells": [
  {
   "cell_type": "code",
   "execution_count": 2,
   "metadata": {},
   "outputs": [],
   "source": [
    "import torch\n",
    "import numpy as np\n",
    "\n",
    "from BaseLayers.AffineLayers import MatVec, AddVec\n",
    "from BaseLayers.ScalarFuncLayers import ExpVec, ReciprocalVec\n",
    "\n",
    "from EvolvedNN import EvolvedNN"
   ]
  },
  {
   "cell_type": "code",
   "execution_count": 7,
   "metadata": {},
   "outputs": [
    {
     "ename": "TypeError",
     "evalue": "MatVec.__init__() missing 2 required positional arguments: 'in_features' and 'out_features'",
     "output_type": "error",
     "traceback": [
      "\u001b[1;31m---------------------------------------------------------------------------\u001b[0m",
      "\u001b[1;31mTypeError\u001b[0m                                 Traceback (most recent call last)",
      "Cell \u001b[1;32mIn[7], line 3\u001b[0m\n\u001b[0;32m      1\u001b[0m potential_layers \u001b[38;5;241m=\u001b[39m [ MatVec, AddVec, ExpVec, ReciprocalVec ]\n\u001b[1;32m----> 3\u001b[0m candidate \u001b[38;5;241m=\u001b[39m EvolvedNN([\u001b[43mMatVec\u001b[49m\u001b[43m(\u001b[49m\u001b[43m)\u001b[49m, AddVec()], potential_layers)\n",
      "\u001b[1;31mTypeError\u001b[0m: MatVec.__init__() missing 2 required positional arguments: 'in_features' and 'out_features'"
     ]
    }
   ],
   "source": [
    "potential_layers = [ MatVec, AddVec, ExpVec, ReciprocalVec ]\n",
    "\n",
    "candidate = EvolvedNN([MatVec(), AddVec()], potential_layers)"
   ]
  },
  {
   "cell_type": "code",
   "execution_count": null,
   "metadata": {},
   "outputs": [],
   "source": []
  }
 ],
 "metadata": {
  "kernelspec": {
   "display_name": "venv",
   "language": "python",
   "name": "python3"
  },
  "language_info": {
   "codemirror_mode": {
    "name": "ipython",
    "version": 3
   },
   "file_extension": ".py",
   "mimetype": "text/x-python",
   "name": "python",
   "nbconvert_exporter": "python",
   "pygments_lexer": "ipython3",
   "version": "3.12.4"
  }
 },
 "nbformat": 4,
 "nbformat_minor": 2
}
