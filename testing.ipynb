{
 "cells": [
  {
   "cell_type": "code",
   "execution_count": 2,
   "metadata": {},
   "outputs": [],
   "source": [
    "import torch\n",
    "import copy"
   ]
  },
  {
   "cell_type": "code",
   "execution_count": 20,
   "metadata": {},
   "outputs": [
    {
     "name": "stdout",
     "output_type": "stream",
     "text": [
      "Parameter containing:\n",
      "tensor([[-0.2276,  0.2398, -1.1655, -0.6577,  0.8764,  0.8753, -1.3917, -0.3837],\n",
      "        [-1.2933, -1.2101,  0.8276, -0.3359, -2.6133, -0.3569,  0.3264, -0.6929],\n",
      "        [-0.2586,  0.3725,  1.0807, -1.0311, -0.1655, -0.4388, -1.2917,  0.8373],\n",
      "        [ 1.1833, -0.9324,  1.9921,  0.4097, -0.8396, -0.1491,  1.3813,  1.8863],\n",
      "        [ 2.1037, -1.2383, -0.8034, -1.3839, -0.3022,  1.5453,  2.3967,  1.1388],\n",
      "        [ 0.7683, -0.5697,  0.6050,  0.9277, -1.2324, -2.1413, -1.8806, -0.2503],\n",
      "        [ 0.9077, -2.4734, -0.5226, -0.2098,  0.0536,  0.5684, -1.7954, -0.9400],\n",
      "        [ 1.0355, -1.1317,  0.6352,  0.2394, -1.6238, -0.2603,  0.8583,  0.0250]],\n",
      "       requires_grad=True)\n",
      "Parameter containing:\n",
      "tensor([[-0.2276,  0.2398, -1.1655, -0.6577],\n",
      "        [-1.2933, -1.2101,  0.8276, -0.3359],\n",
      "        [-0.2586,  0.3725,  1.0807, -1.0311],\n",
      "        [ 1.1833, -0.9324,  1.9921,  0.4097]], requires_grad=True)\n"
     ]
    }
   ],
   "source": [
    "prev_dim = 8\n",
    "new_dim = 4\n",
    "\n",
    "param1 = torch.nn.Parameter(torch.randn(prev_dim, prev_dim))\n",
    "\n",
    "new_param1 = torch.nn.Parameter(torch.empty(new_dim, new_dim))\n",
    "\n",
    "overlap = min(prev_dim, new_dim)\n",
    "new_param1.data[:overlap, :overlap] = param1.data[:overlap, :overlap]\n",
    "\n",
    "new_param1.data[overlap:, overlap:] = torch.randn(new_dim - overlap, new_dim - overlap)\n",
    "\n",
    "print(param1)\n",
    "print(new_param1)"
   ]
  },
  {
   "cell_type": "code",
   "execution_count": null,
   "metadata": {},
   "outputs": [],
   "source": []
  }
 ],
 "metadata": {
  "kernelspec": {
   "display_name": "venv",
   "language": "python",
   "name": "python3"
  },
  "language_info": {
   "codemirror_mode": {
    "name": "ipython",
    "version": 3
   },
   "file_extension": ".py",
   "mimetype": "text/x-python",
   "name": "python",
   "nbconvert_exporter": "python",
   "pygments_lexer": "ipython3",
   "version": "3.12.4"
  }
 },
 "nbformat": 4,
 "nbformat_minor": 2
}
